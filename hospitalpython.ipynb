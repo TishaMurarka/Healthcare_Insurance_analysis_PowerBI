{
 "cells": [
  {
   "cell_type": "code",
   "execution_count": 3,
   "id": "9af5d1db",
   "metadata": {},
   "outputs": [],
   "source": [
    "import pandas as pd\n",
    "import numpy as np\n",
    "import seaborn as sns\n",
    "import matplotlib.pyplot as plt"
   ]
  },
  {
   "cell_type": "code",
   "execution_count": 4,
   "id": "34c67e3c",
   "metadata": {},
   "outputs": [],
   "source": [
    "df = pd.read_csv('hospitalization_data.csv')"
   ]
  },
  {
   "cell_type": "code",
   "execution_count": 5,
   "id": "6b291698",
   "metadata": {},
   "outputs": [
    {
     "data": {
      "text/html": [
       "<div>\n",
       "<style scoped>\n",
       "    .dataframe tbody tr th:only-of-type {\n",
       "        vertical-align: middle;\n",
       "    }\n",
       "\n",
       "    .dataframe tbody tr th {\n",
       "        vertical-align: top;\n",
       "    }\n",
       "\n",
       "    .dataframe thead th {\n",
       "        text-align: right;\n",
       "    }\n",
       "</style>\n",
       "<table border=\"1\" class=\"dataframe\">\n",
       "  <thead>\n",
       "    <tr style=\"text-align: right;\">\n",
       "      <th></th>\n",
       "      <th>Customer_ID</th>\n",
       "      <th>year</th>\n",
       "      <th>month</th>\n",
       "      <th>date</th>\n",
       "      <th>children</th>\n",
       "      <th>charges</th>\n",
       "      <th>Hospital_tier</th>\n",
       "      <th>City_tier</th>\n",
       "      <th>State_ID</th>\n",
       "    </tr>\n",
       "  </thead>\n",
       "  <tbody>\n",
       "    <tr>\n",
       "      <th>0</th>\n",
       "      <td>Id2335</td>\n",
       "      <td>1992</td>\n",
       "      <td>Jul</td>\n",
       "      <td>9</td>\n",
       "      <td>0</td>\n",
       "      <td>563.84</td>\n",
       "      <td>tier - 2</td>\n",
       "      <td>tier - 3</td>\n",
       "      <td>R1013</td>\n",
       "    </tr>\n",
       "    <tr>\n",
       "      <th>1</th>\n",
       "      <td>Id2334</td>\n",
       "      <td>1992</td>\n",
       "      <td>Nov</td>\n",
       "      <td>30</td>\n",
       "      <td>0</td>\n",
       "      <td>570.62</td>\n",
       "      <td>tier - 2</td>\n",
       "      <td>tier - 1</td>\n",
       "      <td>R1013</td>\n",
       "    </tr>\n",
       "    <tr>\n",
       "      <th>2</th>\n",
       "      <td>Id2333</td>\n",
       "      <td>1993</td>\n",
       "      <td>Jun</td>\n",
       "      <td>30</td>\n",
       "      <td>0</td>\n",
       "      <td>600.00</td>\n",
       "      <td>tier - 2</td>\n",
       "      <td>tier - 1</td>\n",
       "      <td>R1013</td>\n",
       "    </tr>\n",
       "    <tr>\n",
       "      <th>3</th>\n",
       "      <td>Id2332</td>\n",
       "      <td>1992</td>\n",
       "      <td>Sep</td>\n",
       "      <td>13</td>\n",
       "      <td>0</td>\n",
       "      <td>604.54</td>\n",
       "      <td>tier - 3</td>\n",
       "      <td>tier - 3</td>\n",
       "      <td>R1013</td>\n",
       "    </tr>\n",
       "    <tr>\n",
       "      <th>4</th>\n",
       "      <td>Id2331</td>\n",
       "      <td>1998</td>\n",
       "      <td>Jul</td>\n",
       "      <td>27</td>\n",
       "      <td>0</td>\n",
       "      <td>637.26</td>\n",
       "      <td>tier - 3</td>\n",
       "      <td>tier - 3</td>\n",
       "      <td>R1013</td>\n",
       "    </tr>\n",
       "    <tr>\n",
       "      <th>...</th>\n",
       "      <td>...</td>\n",
       "      <td>...</td>\n",
       "      <td>...</td>\n",
       "      <td>...</td>\n",
       "      <td>...</td>\n",
       "      <td>...</td>\n",
       "      <td>...</td>\n",
       "      <td>...</td>\n",
       "      <td>...</td>\n",
       "    </tr>\n",
       "    <tr>\n",
       "      <th>2324</th>\n",
       "      <td>Id6</td>\n",
       "      <td>1962</td>\n",
       "      <td>Aug</td>\n",
       "      <td>4</td>\n",
       "      <td>0</td>\n",
       "      <td>52590.83</td>\n",
       "      <td>tier - 1</td>\n",
       "      <td>tier - 3</td>\n",
       "      <td>R1011</td>\n",
       "    </tr>\n",
       "    <tr>\n",
       "      <th>2325</th>\n",
       "      <td>Id5</td>\n",
       "      <td>1989</td>\n",
       "      <td>Jun</td>\n",
       "      <td>19</td>\n",
       "      <td>0</td>\n",
       "      <td>55135.40</td>\n",
       "      <td>tier - 1</td>\n",
       "      <td>tier - 2</td>\n",
       "      <td>R1012</td>\n",
       "    </tr>\n",
       "    <tr>\n",
       "      <th>2326</th>\n",
       "      <td>Id4</td>\n",
       "      <td>1991</td>\n",
       "      <td>Jun</td>\n",
       "      <td>6</td>\n",
       "      <td>1</td>\n",
       "      <td>58571.07</td>\n",
       "      <td>tier - 1</td>\n",
       "      <td>tier - 3</td>\n",
       "      <td>R1024</td>\n",
       "    </tr>\n",
       "    <tr>\n",
       "      <th>2327</th>\n",
       "      <td>Id2</td>\n",
       "      <td>1977</td>\n",
       "      <td>Jun</td>\n",
       "      <td>8</td>\n",
       "      <td>0</td>\n",
       "      <td>62592.87</td>\n",
       "      <td>tier - 2</td>\n",
       "      <td>tier - 3</td>\n",
       "      <td>R1013</td>\n",
       "    </tr>\n",
       "    <tr>\n",
       "      <th>2328</th>\n",
       "      <td>Id1</td>\n",
       "      <td>1968</td>\n",
       "      <td>Oct</td>\n",
       "      <td>12</td>\n",
       "      <td>0</td>\n",
       "      <td>63770.43</td>\n",
       "      <td>tier - 1</td>\n",
       "      <td>tier - 3</td>\n",
       "      <td>R1013</td>\n",
       "    </tr>\n",
       "  </tbody>\n",
       "</table>\n",
       "<p>2329 rows × 9 columns</p>\n",
       "</div>"
      ],
      "text/plain": [
       "     Customer_ID  year month  date  children   charges Hospital_tier   \n",
       "0         Id2335  1992   Jul     9         0    563.84      tier - 2  \\\n",
       "1         Id2334  1992   Nov    30         0    570.62      tier - 2   \n",
       "2         Id2333  1993   Jun    30         0    600.00      tier - 2   \n",
       "3         Id2332  1992   Sep    13         0    604.54      tier - 3   \n",
       "4         Id2331  1998   Jul    27         0    637.26      tier - 3   \n",
       "...          ...   ...   ...   ...       ...       ...           ...   \n",
       "2324         Id6  1962   Aug     4         0  52590.83      tier - 1   \n",
       "2325         Id5  1989   Jun    19         0  55135.40      tier - 1   \n",
       "2326         Id4  1991   Jun     6         1  58571.07      tier - 1   \n",
       "2327         Id2  1977   Jun     8         0  62592.87      tier - 2   \n",
       "2328         Id1  1968   Oct    12         0  63770.43      tier - 1   \n",
       "\n",
       "     City_tier State_ID  \n",
       "0     tier - 3    R1013  \n",
       "1     tier - 1    R1013  \n",
       "2     tier - 1    R1013  \n",
       "3     tier - 3    R1013  \n",
       "4     tier - 3    R1013  \n",
       "...        ...      ...  \n",
       "2324  tier - 3    R1011  \n",
       "2325  tier - 2    R1012  \n",
       "2326  tier - 3    R1024  \n",
       "2327  tier - 3    R1013  \n",
       "2328  tier - 3    R1013  \n",
       "\n",
       "[2329 rows x 9 columns]"
      ]
     },
     "execution_count": 5,
     "metadata": {},
     "output_type": "execute_result"
    }
   ],
   "source": [
    "df.columns=['Customer_ID', 'year', 'month', 'date', 'children', 'charges','Hospital_tier', 'City_tier', 'State_ID']\n",
    "df"
   ]
  },
  {
   "cell_type": "code",
   "execution_count": 6,
   "id": "776dba15",
   "metadata": {},
   "outputs": [
    {
     "data": {
      "text/plain": [
       "Index(['Customer_ID', 'year', 'month', 'date', 'children', 'charges',\n",
       "       'Hospital_tier', 'City_tier', 'State_ID'],\n",
       "      dtype='object')"
      ]
     },
     "execution_count": 6,
     "metadata": {},
     "output_type": "execute_result"
    }
   ],
   "source": [
    "df.columns"
   ]
  },
  {
   "cell_type": "code",
   "execution_count": 7,
   "id": "f5e5aadb",
   "metadata": {},
   "outputs": [
    {
     "name": "stdout",
     "output_type": "stream",
     "text": [
      "<class 'pandas.core.frame.DataFrame'>\n",
      "RangeIndex: 2329 entries, 0 to 2328\n",
      "Data columns (total 9 columns):\n",
      " #   Column         Non-Null Count  Dtype  \n",
      "---  ------         --------------  -----  \n",
      " 0   Customer_ID    2329 non-null   object \n",
      " 1   year           2329 non-null   int64  \n",
      " 2   month          2329 non-null   object \n",
      " 3   date           2329 non-null   int64  \n",
      " 4   children       2329 non-null   int64  \n",
      " 5   charges        2329 non-null   float64\n",
      " 6   Hospital_tier  2329 non-null   object \n",
      " 7   City_tier      2329 non-null   object \n",
      " 8   State_ID       2329 non-null   object \n",
      "dtypes: float64(1), int64(3), object(5)\n",
      "memory usage: 163.9+ KB\n"
     ]
    }
   ],
   "source": [
    "df.info()"
   ]
  },
  {
   "cell_type": "code",
   "execution_count": 8,
   "id": "bc3d6961",
   "metadata": {},
   "outputs": [
    {
     "data": {
      "image/png": "[encoded data removed]",
      "text/plain": [
       "<Figure size 1200x600 with 1 Axes>"
      ]
     },
     "metadata": {},
     "output_type": "display_data"
    },
    {
     "data": {
      "text/plain": [
       "children\n",
       "0    1185\n",
       "1     377\n",
       "3     376\n",
       "2     348\n",
       "4      25\n",
       "5      18\n",
       "Name: count, dtype: int64"
      ]
     },
     "execution_count": 8,
     "metadata": {},
     "output_type": "execute_result"
    }
   ],
   "source": [
    "plt.figure(figsize=(12,6))\n",
    "sns.countplot(x='children', data=df)\n",
    "plt.show()\n",
    "df['children'].value_counts()"
   ]
  },
  {
   "cell_type": "code",
   "execution_count": 9,
   "id": "0595faad",
   "metadata": {},
   "outputs": [
    {
     "data": {
      "image/png": "[encoded data removed]",
      "text/plain": [
       "<Figure size 1200x600 with 1 Axes>"
      ]
     },
     "metadata": {},
     "output_type": "display_data"
    },
    {
     "data": {
      "text/plain": [
       "Hospital_tier\n",
       "tier - 2    1336\n",
       "tier - 3     691\n",
       "tier - 1     302\n",
       "Name: count, dtype: int64"
      ]
     },
     "execution_count": 9,
     "metadata": {},
     "output_type": "execute_result"
    }
   ],
   "source": [
    "plt.figure(figsize=(12,6))\n",
    "sns.countplot(x='Hospital_tier', data=df)\n",
    "plt.show()\n",
    "df['Hospital_tier'].value_counts()"
   ]
  },
  {
   "cell_type": "code",
   "execution_count": 10,
   "id": "71c1515f",
   "metadata": {},
   "outputs": [
    {
     "data": {
      "image/png": "[encoded data removed]",
      "text/plain": [
       "<Figure size 1200x600 with 1 Axes>"
      ]
     },
     "metadata": {},
     "output_type": "display_data"
    },
    {
     "data": {
      "text/plain": [
       "State_ID\n",
       "R1013    611\n",
       "R1011    574\n",
       "R1012    572\n",
       "R1024    159\n",
       "R1026     84\n",
       "R1021     70\n",
       "R1016     64\n",
       "R1025     40\n",
       "R1023     38\n",
       "R1017     36\n",
       "R1019     26\n",
       "R1022     14\n",
       "R1015     13\n",
       "R1014     13\n",
       "R1018      9\n",
       "R1020      6\n",
       "Name: count, dtype: int64"
      ]
     },
     "execution_count": 10,
     "metadata": {},
     "output_type": "execute_result"
    }
   ],
   "source": [
    "plt.figure(figsize=(12,6))\n",
    "sns.countplot(x='State_ID', data=df)\n",
    "plt.show()\n",
    "df['State_ID'].value_counts()"
   ]
  },
  {
   "cell_type": "code",
   "execution_count": 11,
   "id": "a0948aad",
   "metadata": {},
   "outputs": [
    {
     "data": {
      "text/html": [
       "<div>\n",
       "<style scoped>\n",
       "    .dataframe tbody tr th:only-of-type {\n",
       "        vertical-align: middle;\n",
       "    }\n",
       "\n",
       "    .dataframe tbody tr th {\n",
       "        vertical-align: top;\n",
       "    }\n",
       "\n",
       "    .dataframe thead th {\n",
       "        text-align: right;\n",
       "    }\n",
       "</style>\n",
       "<table border=\"1\" class=\"dataframe\">\n",
       "  <thead>\n",
       "    <tr style=\"text-align: right;\">\n",
       "      <th></th>\n",
       "      <th>year</th>\n",
       "      <th>date</th>\n",
       "      <th>children</th>\n",
       "      <th>charges</th>\n",
       "    </tr>\n",
       "  </thead>\n",
       "  <tbody>\n",
       "    <tr>\n",
       "      <th>count</th>\n",
       "      <td>2329.000000</td>\n",
       "      <td>2329.000000</td>\n",
       "      <td>2329.000000</td>\n",
       "      <td>2329.000000</td>\n",
       "    </tr>\n",
       "    <tr>\n",
       "      <th>mean</th>\n",
       "      <td>1982.781881</td>\n",
       "      <td>15.565908</td>\n",
       "      <td>1.026621</td>\n",
       "      <td>13536.422787</td>\n",
       "    </tr>\n",
       "    <tr>\n",
       "      <th>std</th>\n",
       "      <td>13.376988</td>\n",
       "      <td>8.726518</td>\n",
       "      <td>1.234587</td>\n",
       "      <td>11862.500911</td>\n",
       "    </tr>\n",
       "    <tr>\n",
       "      <th>min</th>\n",
       "      <td>1958.000000</td>\n",
       "      <td>1.000000</td>\n",
       "      <td>0.000000</td>\n",
       "      <td>563.840000</td>\n",
       "    </tr>\n",
       "    <tr>\n",
       "      <th>25%</th>\n",
       "      <td>1971.000000</td>\n",
       "      <td>8.000000</td>\n",
       "      <td>0.000000</td>\n",
       "      <td>5124.190000</td>\n",
       "    </tr>\n",
       "    <tr>\n",
       "      <th>50%</th>\n",
       "      <td>1983.000000</td>\n",
       "      <td>15.000000</td>\n",
       "      <td>0.000000</td>\n",
       "      <td>9653.810000</td>\n",
       "    </tr>\n",
       "    <tr>\n",
       "      <th>75%</th>\n",
       "      <td>1994.000000</td>\n",
       "      <td>23.000000</td>\n",
       "      <td>2.000000</td>\n",
       "      <td>16990.550000</td>\n",
       "    </tr>\n",
       "    <tr>\n",
       "      <th>max</th>\n",
       "      <td>2004.000000</td>\n",
       "      <td>30.000000</td>\n",
       "      <td>5.000000</td>\n",
       "      <td>63770.430000</td>\n",
       "    </tr>\n",
       "  </tbody>\n",
       "</table>\n",
       "</div>"
      ],
      "text/plain": [
       "              year         date     children       charges\n",
       "count  2329.000000  2329.000000  2329.000000   2329.000000\n",
       "mean   1982.781881    15.565908     1.026621  13536.422787\n",
       "std      13.376988     8.726518     1.234587  11862.500911\n",
       "min    1958.000000     1.000000     0.000000    563.840000\n",
       "25%    1971.000000     8.000000     0.000000   5124.190000\n",
       "50%    1983.000000    15.000000     0.000000   9653.810000\n",
       "75%    1994.000000    23.000000     2.000000  16990.550000\n",
       "max    2004.000000    30.000000     5.000000  63770.430000"
      ]
     },
     "execution_count": 11,
     "metadata": {},
     "output_type": "execute_result"
    }
   ],
   "source": [
    "df.describe()"
   ]
  },
  {
   "cell_type": "code",
   "execution_count": 12,
   "id": "cec9274c",
   "metadata": {},
   "outputs": [],
   "source": [
    "me = pd.read_csv('medical_Examination.csv')"
   ]
  },
  {
   "cell_type": "code",
   "execution_count": 13,
   "id": "688fe857",
   "metadata": {},
   "outputs": [],
   "source": [
    "me.columns=['Customer_ID', 'BMI', 'HBA1C', 'Heart_Issues', 'Any_Transplants','Cancer_history', 'NumberOfMajorSurgeries', 'smoker']"
   ]
  },
  {
   "cell_type": "code",
   "execution_count": 14,
   "id": "8be28ee7",
   "metadata": {},
   "outputs": [],
   "source": [
    "me['Cancer_history'].replace('No', 0, inplace=True)\n",
    "me['Cancer_history'].replace('Yes', 1, inplace=True)"
   ]
  },
  {
   "cell_type": "code",
   "execution_count": 15,
   "id": "fa77d524",
   "metadata": {},
   "outputs": [],
   "source": [
    "me['smoker'].replace('No', 0, inplace=True)\n",
    "me['smoker'].replace('yes', 1, inplace=True)"
   ]
  },
  {
   "cell_type": "code",
   "execution_count": 16,
   "id": "9a4e864d",
   "metadata": {},
   "outputs": [],
   "source": [
    "me['Heart_Issues'].replace('No', 0, inplace=True)\n",
    "me['Heart_Issues'].replace('yes', 1, inplace=True)"
   ]
  },
  {
   "cell_type": "code",
   "execution_count": 17,
   "id": "deae36e4",
   "metadata": {},
   "outputs": [],
   "source": [
    "me['Any_Transplants'].replace('No', 0, inplace=True)\n",
    "me['Any_Transplants'].replace('yes', 1, inplace=True)"
   ]
  },
  {
   "cell_type": "code",
   "execution_count": 18,
   "id": "c4432bcf",
   "metadata": {},
   "outputs": [
    {
     "name": "stdout",
     "output_type": "stream",
     "text": [
      "<class 'pandas.core.frame.DataFrame'>\n",
      "RangeIndex: 2333 entries, 0 to 2332\n",
      "Data columns (total 8 columns):\n",
      " #   Column                  Non-Null Count  Dtype  \n",
      "---  ------                  --------------  -----  \n",
      " 0   Customer_ID             0 non-null      object \n",
      " 1   BMI                     0 non-null      float64\n",
      " 2   HBA1C                   0 non-null      float64\n",
      " 3   Heart_Issues            0 non-null      float64\n",
      " 4   Any_Transplants         0 non-null      float64\n",
      " 5   Cancer_history          0 non-null      float64\n",
      " 6   NumberOfMajorSurgeries  0 non-null      object \n",
      " 7   smoker                  0 non-null      float64\n",
      "dtypes: float64(6), object(2)\n",
      "memory usage: 145.9+ KB\n"
     ]
    }
   ],
   "source": [
    "me[me==\"?\"].info()"
   ]
  },
  {
   "cell_type": "code",
   "execution_count": 19,
   "id": "2a9f84fd",
   "metadata": {},
   "outputs": [
    {
     "data": {
      "text/html": [
       "<div>\n",
       "<style scoped>\n",
       "    .dataframe tbody tr th:only-of-type {\n",
       "        vertical-align: middle;\n",
       "    }\n",
       "\n",
       "    .dataframe tbody tr th {\n",
       "        vertical-align: top;\n",
       "    }\n",
       "\n",
       "    .dataframe thead th {\n",
       "        text-align: right;\n",
       "    }\n",
       "</style>\n",
       "<table border=\"1\" class=\"dataframe\">\n",
       "  <thead>\n",
       "    <tr style=\"text-align: right;\">\n",
       "      <th></th>\n",
       "      <th>Customer_ID</th>\n",
       "      <th>BMI</th>\n",
       "      <th>HBA1C</th>\n",
       "      <th>Heart_Issues</th>\n",
       "      <th>Any_Transplants</th>\n",
       "      <th>Cancer_history</th>\n",
       "      <th>NumberOfMajorSurgeries</th>\n",
       "      <th>smoker</th>\n",
       "    </tr>\n",
       "  </thead>\n",
       "  <tbody>\n",
       "    <tr>\n",
       "      <th>0</th>\n",
       "      <td>Id1</td>\n",
       "      <td>47.410</td>\n",
       "      <td>7.47</td>\n",
       "      <td>0</td>\n",
       "      <td>0</td>\n",
       "      <td>0</td>\n",
       "      <td>No major surgery</td>\n",
       "      <td>1</td>\n",
       "    </tr>\n",
       "    <tr>\n",
       "      <th>1</th>\n",
       "      <td>Id2</td>\n",
       "      <td>30.360</td>\n",
       "      <td>5.77</td>\n",
       "      <td>0</td>\n",
       "      <td>0</td>\n",
       "      <td>0</td>\n",
       "      <td>No major surgery</td>\n",
       "      <td>1</td>\n",
       "    </tr>\n",
       "    <tr>\n",
       "      <th>2</th>\n",
       "      <td>Id3</td>\n",
       "      <td>34.485</td>\n",
       "      <td>11.87</td>\n",
       "      <td>1</td>\n",
       "      <td>0</td>\n",
       "      <td>0</td>\n",
       "      <td>2</td>\n",
       "      <td>1</td>\n",
       "    </tr>\n",
       "    <tr>\n",
       "      <th>3</th>\n",
       "      <td>Id4</td>\n",
       "      <td>38.095</td>\n",
       "      <td>6.05</td>\n",
       "      <td>0</td>\n",
       "      <td>0</td>\n",
       "      <td>0</td>\n",
       "      <td>No major surgery</td>\n",
       "      <td>1</td>\n",
       "    </tr>\n",
       "    <tr>\n",
       "      <th>4</th>\n",
       "      <td>Id5</td>\n",
       "      <td>35.530</td>\n",
       "      <td>5.45</td>\n",
       "      <td>0</td>\n",
       "      <td>0</td>\n",
       "      <td>0</td>\n",
       "      <td>No major surgery</td>\n",
       "      <td>1</td>\n",
       "    </tr>\n",
       "    <tr>\n",
       "      <th>...</th>\n",
       "      <td>...</td>\n",
       "      <td>...</td>\n",
       "      <td>...</td>\n",
       "      <td>...</td>\n",
       "      <td>...</td>\n",
       "      <td>...</td>\n",
       "      <td>...</td>\n",
       "      <td>...</td>\n",
       "    </tr>\n",
       "    <tr>\n",
       "      <th>2195</th>\n",
       "      <td>Id2198</td>\n",
       "      <td>26.840</td>\n",
       "      <td>5.99</td>\n",
       "      <td>1</td>\n",
       "      <td>1</td>\n",
       "      <td>0</td>\n",
       "      <td>1</td>\n",
       "      <td>0</td>\n",
       "    </tr>\n",
       "    <tr>\n",
       "      <th>2196</th>\n",
       "      <td>Id2199</td>\n",
       "      <td>35.530</td>\n",
       "      <td>4.36</td>\n",
       "      <td>0</td>\n",
       "      <td>0</td>\n",
       "      <td>1</td>\n",
       "      <td>1</td>\n",
       "      <td>0</td>\n",
       "    </tr>\n",
       "    <tr>\n",
       "      <th>2197</th>\n",
       "      <td>Id2200</td>\n",
       "      <td>30.590</td>\n",
       "      <td>4.41</td>\n",
       "      <td>0</td>\n",
       "      <td>0</td>\n",
       "      <td>1</td>\n",
       "      <td>1</td>\n",
       "      <td>0</td>\n",
       "    </tr>\n",
       "    <tr>\n",
       "      <th>2198</th>\n",
       "      <td>Id2201</td>\n",
       "      <td>30.590</td>\n",
       "      <td>4.17</td>\n",
       "      <td>0</td>\n",
       "      <td>0</td>\n",
       "      <td>1</td>\n",
       "      <td>1</td>\n",
       "      <td>0</td>\n",
       "    </tr>\n",
       "    <tr>\n",
       "      <th>2199</th>\n",
       "      <td>Id2202</td>\n",
       "      <td>27.835</td>\n",
       "      <td>4.44</td>\n",
       "      <td>0</td>\n",
       "      <td>0</td>\n",
       "      <td>1</td>\n",
       "      <td>1</td>\n",
       "      <td>0</td>\n",
       "    </tr>\n",
       "  </tbody>\n",
       "</table>\n",
       "<p>2200 rows × 8 columns</p>\n",
       "</div>"
      ],
      "text/plain": [
       "     Customer_ID     BMI  HBA1C  Heart_Issues  Any_Transplants   \n",
       "0            Id1  47.410   7.47             0                0  \\\n",
       "1            Id2  30.360   5.77             0                0   \n",
       "2            Id3  34.485  11.87             1                0   \n",
       "3            Id4  38.095   6.05             0                0   \n",
       "4            Id5  35.530   5.45             0                0   \n",
       "...          ...     ...    ...           ...              ...   \n",
       "2195      Id2198  26.840   5.99             1                1   \n",
       "2196      Id2199  35.530   4.36             0                0   \n",
       "2197      Id2200  30.590   4.41             0                0   \n",
       "2198      Id2201  30.590   4.17             0                0   \n",
       "2199      Id2202  27.835   4.44             0                0   \n",
       "\n",
       "      Cancer_history NumberOfMajorSurgeries  smoker  \n",
       "0                  0       No major surgery       1  \n",
       "1                  0       No major surgery       1  \n",
       "2                  0                      2       1  \n",
       "3                  0       No major surgery       1  \n",
       "4                  0       No major surgery       1  \n",
       "...              ...                    ...     ...  \n",
       "2195               0                      1       0  \n",
       "2196               1                      1       0  \n",
       "2197               1                      1       0  \n",
       "2198               1                      1       0  \n",
       "2199               1                      1       0  \n",
       "\n",
       "[2200 rows x 8 columns]"
      ]
     },
     "execution_count": 19,
     "metadata": {},
     "output_type": "execute_result"
    }
   ],
   "source": [
    "me.head(2200)"
   ]
  },
  {
   "cell_type": "code",
   "execution_count": 20,
   "id": "8dd8272f",
   "metadata": {},
   "outputs": [
    {
     "data": {
      "text/plain": [
       "Index(['Customer_ID', 'BMI', 'HBA1C', 'Heart_Issues', 'Any_Transplants',\n",
       "       'Cancer_history', 'NumberOfMajorSurgeries', 'smoker'],\n",
       "      dtype='object')"
      ]
     },
     "execution_count": 20,
     "metadata": {},
     "output_type": "execute_result"
    }
   ],
   "source": [
    "me.columns"
   ]
  },
  {
   "cell_type": "code",
   "execution_count": 21,
   "id": "a7cef630",
   "metadata": {},
   "outputs": [
    {
     "data": {
      "image/png": "[encoded data removed]",
      "text/plain": [
       "<Figure size 1200x600 with 1 Axes>"
      ]
     },
     "metadata": {},
     "output_type": "display_data"
    },
    {
     "data": {
      "text/plain": [
       "NumberOfMajorSurgeries\n",
       "No major surgery    1073\n",
       "1                    964\n",
       "2                    274\n",
       "3                     22\n",
       "Name: count, dtype: int64"
      ]
     },
     "execution_count": 21,
     "metadata": {},
     "output_type": "execute_result"
    }
   ],
   "source": [
    "plt.figure(figsize=(12,6))\n",
    "sns.countplot(x='NumberOfMajorSurgeries', data=me)\n",
    "plt.show()\n",
    "me['NumberOfMajorSurgeries'].value_counts()"
   ]
  },
  {
   "cell_type": "code",
   "execution_count": 22,
   "id": "d06beeb3",
   "metadata": {},
   "outputs": [
    {
     "data": {
      "image/png": "[encoded data removed]",
      "text/plain": [
       "<Figure size 1200x600 with 1 Axes>"
      ]
     },
     "metadata": {},
     "output_type": "display_data"
    },
    {
     "data": {
      "text/plain": [
       "smoker\n",
       "0    1845\n",
       "1     488\n",
       "Name: count, dtype: int64"
      ]
     },
     "execution_count": 22,
     "metadata": {},
     "output_type": "execute_result"
    }
   ],
   "source": [
    "plt.figure(figsize=(12,6))\n",
    "sns.countplot(x='smoker', data=me)\n",
    "plt.show()\n",
    "me['smoker'].value_counts()"
   ]
  },
  {
   "cell_type": "code",
   "execution_count": 23,
   "id": "104c671e",
   "metadata": {},
   "outputs": [
    {
     "data": {
      "image/png": "[encoded data removed]",
      "text/plain": [
       "<Figure size 1200x600 with 1 Axes>"
      ]
     },
     "metadata": {},
     "output_type": "display_data"
    },
    {
     "data": {
      "text/plain": [
       "Heart_Issues\n",
       "0    1407\n",
       "1     926\n",
       "Name: count, dtype: int64"
      ]
     },
     "execution_count": 23,
     "metadata": {},
     "output_type": "execute_result"
    }
   ],
   "source": [
    "plt.figure(figsize=(12,6))\n",
    "sns.countplot(x='Heart_Issues', data=me)\n",
    "plt.show()\n",
    "me['Heart_Issues'].value_counts()"
   ]
  },
  {
   "cell_type": "markdown",
   "id": "3c193ed6",
   "metadata": {},
   "source": [
    "# COMBINING DATA"
   ]
  },
  {
   "cell_type": "code",
   "execution_count": 24,
   "id": "8736e9c9",
   "metadata": {},
   "outputs": [],
   "source": [
    "datafinal=pd.merge(df,me,how='inner',on='Customer_ID')"
   ]
  },
  {
   "cell_type": "code",
   "execution_count": 25,
   "id": "c900f6ad",
   "metadata": {},
   "outputs": [
    {
     "data": {
      "text/html": [
       "<div>\n",
       "<style scoped>\n",
       "    .dataframe tbody tr th:only-of-type {\n",
       "        vertical-align: middle;\n",
       "    }\n",
       "\n",
       "    .dataframe tbody tr th {\n",
       "        vertical-align: top;\n",
       "    }\n",
       "\n",
       "    .dataframe thead th {\n",
       "        text-align: right;\n",
       "    }\n",
       "</style>\n",
       "<table border=\"1\" class=\"dataframe\">\n",
       "  <thead>\n",
       "    <tr style=\"text-align: right;\">\n",
       "      <th></th>\n",
       "      <th>Customer_ID</th>\n",
       "      <th>year</th>\n",
       "      <th>month</th>\n",
       "      <th>date</th>\n",
       "      <th>children</th>\n",
       "      <th>charges</th>\n",
       "      <th>Hospital_tier</th>\n",
       "      <th>City_tier</th>\n",
       "      <th>State_ID</th>\n",
       "      <th>BMI</th>\n",
       "      <th>HBA1C</th>\n",
       "      <th>Heart_Issues</th>\n",
       "      <th>Any_Transplants</th>\n",
       "      <th>Cancer_history</th>\n",
       "      <th>NumberOfMajorSurgeries</th>\n",
       "      <th>smoker</th>\n",
       "    </tr>\n",
       "  </thead>\n",
       "  <tbody>\n",
       "    <tr>\n",
       "      <th>0</th>\n",
       "      <td>Id2335</td>\n",
       "      <td>1992</td>\n",
       "      <td>Jul</td>\n",
       "      <td>9</td>\n",
       "      <td>0</td>\n",
       "      <td>563.84</td>\n",
       "      <td>tier - 2</td>\n",
       "      <td>tier - 3</td>\n",
       "      <td>R1013</td>\n",
       "      <td>17.580</td>\n",
       "      <td>4.51</td>\n",
       "      <td>0</td>\n",
       "      <td>0</td>\n",
       "      <td>0</td>\n",
       "      <td>1</td>\n",
       "      <td>0</td>\n",
       "    </tr>\n",
       "    <tr>\n",
       "      <th>1</th>\n",
       "      <td>Id2334</td>\n",
       "      <td>1992</td>\n",
       "      <td>Nov</td>\n",
       "      <td>30</td>\n",
       "      <td>0</td>\n",
       "      <td>570.62</td>\n",
       "      <td>tier - 2</td>\n",
       "      <td>tier - 1</td>\n",
       "      <td>R1013</td>\n",
       "      <td>17.600</td>\n",
       "      <td>4.39</td>\n",
       "      <td>0</td>\n",
       "      <td>0</td>\n",
       "      <td>0</td>\n",
       "      <td>1</td>\n",
       "      <td>0</td>\n",
       "    </tr>\n",
       "    <tr>\n",
       "      <th>2</th>\n",
       "      <td>Id2333</td>\n",
       "      <td>1993</td>\n",
       "      <td>Jun</td>\n",
       "      <td>30</td>\n",
       "      <td>0</td>\n",
       "      <td>600.00</td>\n",
       "      <td>tier - 2</td>\n",
       "      <td>tier - 1</td>\n",
       "      <td>R1013</td>\n",
       "      <td>16.470</td>\n",
       "      <td>6.35</td>\n",
       "      <td>0</td>\n",
       "      <td>0</td>\n",
       "      <td>1</td>\n",
       "      <td>1</td>\n",
       "      <td>0</td>\n",
       "    </tr>\n",
       "    <tr>\n",
       "      <th>3</th>\n",
       "      <td>Id2332</td>\n",
       "      <td>1992</td>\n",
       "      <td>Sep</td>\n",
       "      <td>13</td>\n",
       "      <td>0</td>\n",
       "      <td>604.54</td>\n",
       "      <td>tier - 3</td>\n",
       "      <td>tier - 3</td>\n",
       "      <td>R1013</td>\n",
       "      <td>17.700</td>\n",
       "      <td>6.28</td>\n",
       "      <td>0</td>\n",
       "      <td>0</td>\n",
       "      <td>0</td>\n",
       "      <td>1</td>\n",
       "      <td>0</td>\n",
       "    </tr>\n",
       "    <tr>\n",
       "      <th>4</th>\n",
       "      <td>Id2331</td>\n",
       "      <td>1998</td>\n",
       "      <td>Jul</td>\n",
       "      <td>27</td>\n",
       "      <td>0</td>\n",
       "      <td>637.26</td>\n",
       "      <td>tier - 3</td>\n",
       "      <td>tier - 3</td>\n",
       "      <td>R1013</td>\n",
       "      <td>22.340</td>\n",
       "      <td>5.57</td>\n",
       "      <td>0</td>\n",
       "      <td>0</td>\n",
       "      <td>0</td>\n",
       "      <td>1</td>\n",
       "      <td>0</td>\n",
       "    </tr>\n",
       "    <tr>\n",
       "      <th>...</th>\n",
       "      <td>...</td>\n",
       "      <td>...</td>\n",
       "      <td>...</td>\n",
       "      <td>...</td>\n",
       "      <td>...</td>\n",
       "      <td>...</td>\n",
       "      <td>...</td>\n",
       "      <td>...</td>\n",
       "      <td>...</td>\n",
       "      <td>...</td>\n",
       "      <td>...</td>\n",
       "      <td>...</td>\n",
       "      <td>...</td>\n",
       "      <td>...</td>\n",
       "      <td>...</td>\n",
       "      <td>...</td>\n",
       "    </tr>\n",
       "    <tr>\n",
       "      <th>2320</th>\n",
       "      <td>Id6</td>\n",
       "      <td>1962</td>\n",
       "      <td>Aug</td>\n",
       "      <td>4</td>\n",
       "      <td>0</td>\n",
       "      <td>52590.83</td>\n",
       "      <td>tier - 1</td>\n",
       "      <td>tier - 3</td>\n",
       "      <td>R1011</td>\n",
       "      <td>32.800</td>\n",
       "      <td>6.59</td>\n",
       "      <td>0</td>\n",
       "      <td>0</td>\n",
       "      <td>0</td>\n",
       "      <td>No major surgery</td>\n",
       "      <td>1</td>\n",
       "    </tr>\n",
       "    <tr>\n",
       "      <th>2321</th>\n",
       "      <td>Id5</td>\n",
       "      <td>1989</td>\n",
       "      <td>Jun</td>\n",
       "      <td>19</td>\n",
       "      <td>0</td>\n",
       "      <td>55135.40</td>\n",
       "      <td>tier - 1</td>\n",
       "      <td>tier - 2</td>\n",
       "      <td>R1012</td>\n",
       "      <td>35.530</td>\n",
       "      <td>5.45</td>\n",
       "      <td>0</td>\n",
       "      <td>0</td>\n",
       "      <td>0</td>\n",
       "      <td>No major surgery</td>\n",
       "      <td>1</td>\n",
       "    </tr>\n",
       "    <tr>\n",
       "      <th>2322</th>\n",
       "      <td>Id4</td>\n",
       "      <td>1991</td>\n",
       "      <td>Jun</td>\n",
       "      <td>6</td>\n",
       "      <td>1</td>\n",
       "      <td>58571.07</td>\n",
       "      <td>tier - 1</td>\n",
       "      <td>tier - 3</td>\n",
       "      <td>R1024</td>\n",
       "      <td>38.095</td>\n",
       "      <td>6.05</td>\n",
       "      <td>0</td>\n",
       "      <td>0</td>\n",
       "      <td>0</td>\n",
       "      <td>No major surgery</td>\n",
       "      <td>1</td>\n",
       "    </tr>\n",
       "    <tr>\n",
       "      <th>2323</th>\n",
       "      <td>Id2</td>\n",
       "      <td>1977</td>\n",
       "      <td>Jun</td>\n",
       "      <td>8</td>\n",
       "      <td>0</td>\n",
       "      <td>62592.87</td>\n",
       "      <td>tier - 2</td>\n",
       "      <td>tier - 3</td>\n",
       "      <td>R1013</td>\n",
       "      <td>30.360</td>\n",
       "      <td>5.77</td>\n",
       "      <td>0</td>\n",
       "      <td>0</td>\n",
       "      <td>0</td>\n",
       "      <td>No major surgery</td>\n",
       "      <td>1</td>\n",
       "    </tr>\n",
       "    <tr>\n",
       "      <th>2324</th>\n",
       "      <td>Id1</td>\n",
       "      <td>1968</td>\n",
       "      <td>Oct</td>\n",
       "      <td>12</td>\n",
       "      <td>0</td>\n",
       "      <td>63770.43</td>\n",
       "      <td>tier - 1</td>\n",
       "      <td>tier - 3</td>\n",
       "      <td>R1013</td>\n",
       "      <td>47.410</td>\n",
       "      <td>7.47</td>\n",
       "      <td>0</td>\n",
       "      <td>0</td>\n",
       "      <td>0</td>\n",
       "      <td>No major surgery</td>\n",
       "      <td>1</td>\n",
       "    </tr>\n",
       "  </tbody>\n",
       "</table>\n",
       "<p>2325 rows × 16 columns</p>\n",
       "</div>"
      ],
      "text/plain": [
       "     Customer_ID  year month  date  children   charges Hospital_tier   \n",
       "0         Id2335  1992   Jul     9         0    563.84      tier - 2  \\\n",
       "1         Id2334  1992   Nov    30         0    570.62      tier - 2   \n",
       "2         Id2333  1993   Jun    30         0    600.00      tier - 2   \n",
       "3         Id2332  1992   Sep    13         0    604.54      tier - 3   \n",
       "4         Id2331  1998   Jul    27         0    637.26      tier - 3   \n",
       "...          ...   ...   ...   ...       ...       ...           ...   \n",
       "2320         Id6  1962   Aug     4         0  52590.83      tier - 1   \n",
       "2321         Id5  1989   Jun    19         0  55135.40      tier - 1   \n",
       "2322         Id4  1991   Jun     6         1  58571.07      tier - 1   \n",
       "2323         Id2  1977   Jun     8         0  62592.87      tier - 2   \n",
       "2324         Id1  1968   Oct    12         0  63770.43      tier - 1   \n",
       "\n",
       "     City_tier State_ID     BMI  HBA1C  Heart_Issues  Any_Transplants   \n",
       "0     tier - 3    R1013  17.580   4.51             0                0  \\\n",
       "1     tier - 1    R1013  17.600   4.39             0                0   \n",
       "2     tier - 1    R1013  16.470   6.35             0                0   \n",
       "3     tier - 3    R1013  17.700   6.28             0                0   \n",
       "4     tier - 3    R1013  22.340   5.57             0                0   \n",
       "...        ...      ...     ...    ...           ...              ...   \n",
       "2320  tier - 3    R1011  32.800   6.59             0                0   \n",
       "2321  tier - 2    R1012  35.530   5.45             0                0   \n",
       "2322  tier - 3    R1024  38.095   6.05             0                0   \n",
       "2323  tier - 3    R1013  30.360   5.77             0                0   \n",
       "2324  tier - 3    R1013  47.410   7.47             0                0   \n",
       "\n",
       "      Cancer_history NumberOfMajorSurgeries  smoker  \n",
       "0                  0                      1       0  \n",
       "1                  0                      1       0  \n",
       "2                  1                      1       0  \n",
       "3                  0                      1       0  \n",
       "4                  0                      1       0  \n",
       "...              ...                    ...     ...  \n",
       "2320               0       No major surgery       1  \n",
       "2321               0       No major surgery       1  \n",
       "2322               0       No major surgery       1  \n",
       "2323               0       No major surgery       1  \n",
       "2324               0       No major surgery       1  \n",
       "\n",
       "[2325 rows x 16 columns]"
      ]
     },
     "execution_count": 25,
     "metadata": {},
     "output_type": "execute_result"
    }
   ],
   "source": [
    "datafinal"
   ]
  },
  {
   "cell_type": "markdown",
   "id": "bc35fc0f",
   "metadata": {},
   "source": [
    "# COMBINED DATA ANALYSIS"
   ]
  },
  {
   "cell_type": "markdown",
   "id": "e1ccad77",
   "metadata": {},
   "source": [
    "# SMOKER VS CANCER"
   ]
  },
  {
   "cell_type": "code",
   "execution_count": 26,
   "id": "5e5a4342",
   "metadata": {},
   "outputs": [
    {
     "data": {
      "text/plain": [
       "<Axes: xlabel='smoker', ylabel='count'>"
      ]
     },
     "execution_count": 26,
     "metadata": {},
     "output_type": "execute_result"
    },
    {
     "data": {
      "image/png": "[encoded data removed]",
      "text/plain": [
       "<Figure size 640x480 with 1 Axes>"
      ]
     },
     "metadata": {},
     "output_type": "display_data"
    }
   ],
   "source": [
    "sns.countplot(x='smoker', hue='Cancer_history', data=datafinal)"
   ]
  },
  {
   "cell_type": "code",
   "execution_count": 27,
   "id": "c061bead",
   "metadata": {},
   "outputs": [
    {
     "name": "stdout",
     "output_type": "stream",
     "text": [
      "Total Number of people who smoke:  488\n",
      "smokers who have cancer:  84\n",
      "ratio:  0.1721311475409836\n"
     ]
    }
   ],
   "source": [
    "number_of_smokers = me[me['smoker'] == 1]['Customer_ID'].nunique()\n",
    "cancer = me[(me['Cancer_history'] == 1) & (me['smoker'] == 1)]['Customer_ID'].nunique()\n",
    "print('Total Number of people who smoke: ', number_of_smokers)\n",
    "print('smokers who have cancer: ', cancer)\n",
    "print('ratio: ', 1.0 * cancer / number_of_smokers)"
   ]
  },
  {
   "cell_type": "code",
   "execution_count": 28,
   "id": "bac7c975",
   "metadata": {},
   "outputs": [
    {
     "name": "stdout",
     "output_type": "stream",
     "text": [
      "Total Number of people who do not smoke:  1845\n",
      "smokers who have cancer:  307\n",
      "ratio:  0.16639566395663957\n"
     ]
    }
   ],
   "source": [
    "number_of_nonsmokers = me[me['smoker'] == 0]['Customer_ID'].nunique()\n",
    "cancer = me[(me['Cancer_history'] == 1) & (me['smoker'] == 0)]['Customer_ID'].nunique()\n",
    "print('Total Number of people who do not smoke: ', number_of_nonsmokers)\n",
    "print('smokers who have cancer: ', cancer)\n",
    "print('ratio: ', 1.0 * cancer / number_of_nonsmokers)"
   ]
  },
  {
   "cell_type": "markdown",
   "id": "db39f2a8",
   "metadata": {},
   "source": [
    "# DISTRIBUTION OF TYPES OF HOSPITALS IN DIFFERENT TYRES OF CITY"
   ]
  },
  {
   "cell_type": "code",
   "execution_count": 32,
   "id": "b863586c",
   "metadata": {},
   "outputs": [
    {
     "data": {
      "text/plain": [
       "<Axes: xlabel='Hospital_tier', ylabel='charges'>"
      ]
     },
     "execution_count": 32,
     "metadata": {},
     "output_type": "execute_result"
    },
    {
     "data": {
      "image/png": "[encoded data removed]",
      "text/plain": [
       "<Figure size 640x480 with 1 Axes>"
      ]
     },
     "metadata": {},
     "output_type": "display_data"
    }
   ],
   "source": [
    "# charges cost by different ties of hospitals\n",
    "sns.barplot(x='Hospital_tier', y='charges', data=datafinal)"
   ]
  },
  {
   "cell_type": "code",
   "execution_count": 33,
   "id": "47457b65",
   "metadata": {},
   "outputs": [
    {
     "data": {
      "text/plain": [
       "<Axes: xlabel='City_tier', ylabel='count'>"
      ]
     },
     "execution_count": 33,
     "metadata": {},
     "output_type": "execute_result"
    },
    {
     "data": {
      "image/png": "[encoded data removed]",
      "text/plain": [
       "<Figure size 640x480 with 1 Axes>"
      ]
     },
     "metadata": {},
     "output_type": "display_data"
    }
   ],
   "source": [
    "sns.countplot(x='City_tier', hue='Hospital_tier', data=datafinal)"
   ]
  },
  {
   "cell_type": "markdown",
   "id": "4a954a0d",
   "metadata": {},
   "source": [
    "# CITY WITH MAJOR NUMBER OF SURGERIES"
   ]
  },
  {
   "cell_type": "code",
   "execution_count": 44,
   "id": "be0da38c",
   "metadata": {},
   "outputs": [
    {
     "data": {
      "text/plain": [
       "<Axes: xlabel='City_tier', ylabel='count'>"
      ]
     },
     "execution_count": 44,
     "metadata": {},
     "output_type": "execute_result"
    },
    {
     "data": {
      "image/png": "[encoded data removed]",
      "text/plain": [
       "<Figure size 1000x600 with 1 Axes>"
      ]
     },
     "metadata": {},
     "output_type": "display_data"
    }
   ],
   "source": [
    "plt.figure(figsize=(10, 6))\n",
    "sns.countplot(x='City_tier', hue='NumberOfMajorSurgeries', data=datafinal)"
   ]
  },
  {
   "cell_type": "markdown",
   "id": "38ac0df5",
   "metadata": {},
   "source": [
    "# PATIENT AND THEIR CHILDREN "
   ]
  },
  {
   "cell_type": "code",
   "execution_count": 41,
   "id": "eb7bb571",
   "metadata": {},
   "outputs": [
    {
     "data": {
      "image/png": "[encoded data removed]",
      "text/plain": [
       "<Figure size 1000x600 with 1 Axes>"
      ]
     },
     "metadata": {},
     "output_type": "display_data"
    }
   ],
   "source": [
    "plt.figure(figsize=(10, 6))\n",
    "plt.pie(df['children'].value_counts(), labels=df['children'].value_counts().index, autopct='%1.1f%%')\n",
    "plt.show()"
   ]
  },
  {
   "cell_type": "code",
   "execution_count": 42,
   "id": "17652a3f",
   "metadata": {},
   "outputs": [
    {
     "data": {
      "text/plain": [
       "<Axes: xlabel='NumberOfMajorSurgeries', ylabel='count'>"
      ]
     },
     "execution_count": 42,
     "metadata": {},
     "output_type": "execute_result"
    },
    {
     "data": {
      "image/png": "[encoded data removed]",
      "text/plain": [
       "<Figure size 640x480 with 1 Axes>"
      ]
     },
     "metadata": {},
     "output_type": "display_data"
    }
   ],
   "source": [
    "sns.countplot(x='NumberOfMajorSurgeries', hue='children', data=datafinal)"
   ]
  },
  {
   "cell_type": "markdown",
   "id": "8d26815c",
   "metadata": {},
   "source": [
    "# INSIGHTS:"
   ]
  },
  {
   "cell_type": "markdown",
   "id": "d241411e",
   "metadata": {},
   "source": [
    "PEOPLE WHO ARE SMOKER AND HAVE CANCER SHOULD BE CHARGE MORE AS THEIR HOSPITAL COST IS MORE.\n",
    "\n",
    "PEOPLE WHO ARE LIVING IN BIG CITY AND PREFER HOSPITAL OF TIRE-2 OR TIRE-3 MUST ALSO CHARGE MORE\n",
    "\n",
    "ALL THE PEOPLE WHO HAVE TWO OR MORE CHILDERN AND HAVE 1 OR MORE MAJOR SURGERY MUST BE CHARGED WITH MORE PREMIUM AS THEY MAY REQUIRE MORE MEDICAL ATTENTION PLUS THE HOSPITAL WOULD ALSO CHARGE THEM MORE AND THEY HAVE MORE NUMBER OF CHILDREN .\n",
    "\n"
   ]
  }
 ],
 "metadata": {
  "kernelspec": {
   "display_name": "Python 3 (ipykernel)",
   "language": "python",
   "name": "python3"
  },
  "language_info": {
   "codemirror_mode": {
    "name": "ipython",
    "version": 3
   },
   "file_extension": ".py",
   "mimetype": "text/x-python",
   "name": "python",
   "nbconvert_exporter": "python",
   "pygments_lexer": "ipython3",
   "version": "3.10.11"
  }
 },
 "nbformat": 4,
 "nbformat_minor": 5
}
